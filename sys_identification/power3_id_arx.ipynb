{
 "cells": [
  {
   "cell_type": "code",
   "execution_count": 9,
   "metadata": {},
   "outputs": [],
   "source": [
    "import pandas as pd\n",
    "from filterpy.kalman import KalmanFilter\n",
    "from filterpy.common import Q_discrete_white_noise\n",
    "import numpy as np\n",
    "import matplotlib.pyplot as plt \n",
    "import plotly.graph_objects as go\n",
    "from plotly_resampler import FigureResampler, FigureWidgetResampler"
   ]
  },
  {
   "cell_type": "code",
   "execution_count": 10,
   "metadata": {},
   "outputs": [],
   "source": [
    "df = pd.read_parquet(\"../data/static_models/pump3_power_siso.par\")\n",
    "df = df.set_index(\"time\")\n",
    "df = df.rolling(window=40, center=True).median().dropna()\n",
    "df = df.resample(\"5s\").mean().dropna()"
   ]
  },
  {
   "cell_type": "code",
   "execution_count": 11,
   "metadata": {},
   "outputs": [],
   "source": [
    "df['pump3_speed'] = df['pump3_speed'].apply(lambda x: max(0, x))\n"
   ]
  },
  {
   "cell_type": "code",
   "execution_count": 12,
   "metadata": {},
   "outputs": [],
   "source": [
    "train_df = df[\"2024-01-09 10:30:00\":\"2024-01-09 16:10:00\"]\n",
    "test_df = df[\"2024-01-10\":\"2024-02-16 12:00:00\"]"
   ]
  },
  {
   "cell_type": "code",
   "execution_count": 13,
   "metadata": {},
   "outputs": [],
   "source": [
    "from src.system_identification import ARXParametersIdentification\n",
    "from src.preprocessing import Preprocessor\n",
    "import pandas as pd\n",
    "from sysidentpy.basis_function._basis_function import Polynomial"
   ]
  },
  {
   "cell_type": "code",
   "execution_count": 14,
   "metadata": {},
   "outputs": [],
   "source": [
    "FEATURES = \"pump3_speed\"\n",
    "TARGET = 'pump3_power'\n",
    "\n",
    "sys_id = ARXParametersIdentification(FEATURES, \n",
    "                            TARGET, \n",
    "                            dataframe= train_df, \n",
    "                            model_type= 'siso')"
   ]
  },
  {
   "cell_type": "code",
   "execution_count": 15,
   "metadata": {},
   "outputs": [
    {
     "name": "stderr",
     "output_type": "stream",
     "text": [
      "/home/alqua/Git/edge_mpc/sys_identification/src/sysidentpy/narmax_base.py:1034: RuntimeWarning: divide by zero encountered in divide\n",
      "  x = x[1:] / aux_b\n",
      "/home/alqua/Git/edge_mpc/sys_identification/src/sysidentpy/narmax_base.py:1034: RuntimeWarning: invalid value encountered in divide\n",
      "  x = x[1:] / aux_b\n"
     ]
    },
    {
     "data": {
      "text/html": [
       "<div>\n",
       "<style scoped>\n",
       "    .dataframe tbody tr th:only-of-type {\n",
       "        vertical-align: middle;\n",
       "    }\n",
       "\n",
       "    .dataframe tbody tr th {\n",
       "        vertical-align: top;\n",
       "    }\n",
       "\n",
       "    .dataframe thead th {\n",
       "        text-align: right;\n",
       "    }\n",
       "</style>\n",
       "<table border=\"1\" class=\"dataframe\">\n",
       "  <thead>\n",
       "    <tr style=\"text-align: right;\">\n",
       "      <th></th>\n",
       "      <th>Regressors</th>\n",
       "      <th>Parameters</th>\n",
       "      <th>ERR</th>\n",
       "    </tr>\n",
       "  </thead>\n",
       "  <tbody>\n",
       "    <tr>\n",
       "      <th>0</th>\n",
       "      <td>x1(k-1)</td>\n",
       "      <td>4.1216E-02</td>\n",
       "      <td>9.9822E-01</td>\n",
       "    </tr>\n",
       "    <tr>\n",
       "      <th>1</th>\n",
       "      <td>y(k-1)</td>\n",
       "      <td>3.6872E-03</td>\n",
       "      <td>NAN</td>\n",
       "    </tr>\n",
       "    <tr>\n",
       "      <th>2</th>\n",
       "      <td>y(k-2)</td>\n",
       "      <td>3.1648E-03</td>\n",
       "      <td>NAN</td>\n",
       "    </tr>\n",
       "  </tbody>\n",
       "</table>\n",
       "</div>"
      ],
      "text/plain": [
       "  Regressors  Parameters         ERR\n",
       "0    x1(k-1)  4.1216E-02  9.9822E-01\n",
       "1     y(k-1)  3.6872E-03         NAN\n",
       "2     y(k-2)  3.1648E-03         NAN"
      ]
     },
     "execution_count": 15,
     "metadata": {},
     "output_type": "execute_result"
    }
   ],
   "source": [
    "parameters = {\n",
    "    'estimator': 'ridge_regression',\n",
    "    'ridge_param': 2e6,\n",
    "    'order_selection': False,\n",
    "    'n_terms': 3,\n",
    "    'extended_least_squares': False,\n",
    "    'ylag': 2,  \n",
    "    'xlag': 1, \n",
    "    'basis_function': Polynomial(degree=1)\n",
    "}\n",
    "    \n",
    "fitted_model, model_parameters = sys_id.identify_arx_parameters(x_train=train_df[FEATURES], \n",
    "                                                                y_train= train_df[TARGET],\n",
    "                                                                **parameters)\n",
    "    \n",
    "model_parameters"
   ]
  },
  {
   "cell_type": "code",
   "execution_count": 16,
   "metadata": {},
   "outputs": [
    {
     "name": "stdout",
     "output_type": "stream",
     "text": [
      "RRSE: 0.08543549246398328\n",
      "MSE: 3.7078138317809706\n"
     ]
    }
   ],
   "source": [
    "yhat  = sys_id.predict(x_test= test_df[FEATURES], y_test= test_df[TARGET], n_steps_ahead= 200)\n",
    "\n",
    "#val_plots = sys_id.residuals_analysis(yhat, df[TARGET].values)\n",
    "#print(model_parameters)"
   ]
  },
  {
   "cell_type": "code",
   "execution_count": 18,
   "metadata": {},
   "outputs": [
    {
     "data": {
      "application/vnd.jupyter.widget-view+json": {
       "model_id": "152424b12aaf44a4ab5003a074959fc1",
       "version_major": 2,
       "version_minor": 0
      },
      "text/plain": [
       "FigureWidgetResampler({\n",
       "    'data': [{'name': '<b style=\"color:sandybrown\">[R]</b> yhat <i style=\"color:#fc9944\">~54m</i>',\n",
       "              'showlegend': True,\n",
       "              'type': 'scattergl',\n",
       "              'uid': '89164da8-f615-42df-8eff-9dd2b6cd1ad8',\n",
       "              'x': array([datetime.datetime(2024, 1, 10, 0, 0, tzinfo=<UTC>),\n",
       "                          datetime.datetime(2024, 1, 10, 0, 0, 5, tzinfo=<UTC>),\n",
       "                          datetime.datetime(2024, 1, 10, 0, 27, 5, tzinfo=<UTC>), ...,\n",
       "                          datetime.datetime(2024, 2, 16, 9, 42, 55, tzinfo=<UTC>),\n",
       "                          datetime.datetime(2024, 2, 16, 11, 18, 25, tzinfo=<UTC>),\n",
       "                          datetime.datetime(2024, 2, 16, 11, 26, 45, tzinfo=<UTC>)], dtype=object),\n",
       "              'y': array([ 0.        ,  0.        ,  0.        , ..., 41.68785652, 43.57573409,\n",
       "                          42.33071312])},\n",
       "             {'name': ('<b style=\"color:sandybrown\">[R' ... 'style=\"color:#fc9944\">~54m</i>'),\n",
       "              'showlegend': True,\n",
       "              'type': 'scattergl',\n",
       "              'uid': 'a7048f73-e6ff-4014-b077-7c27cbd6780d',\n",
       "              'x': array([datetime.datetime(2024, 1, 10, 0, 0, tzinfo=<UTC>),\n",
       "                          datetime.datetime(2024, 1, 10, 0, 0, 5, tzinfo=<UTC>),\n",
       "                          datetime.datetime(2024, 1, 10, 0, 27, 5, tzinfo=<UTC>), ...,\n",
       "                          datetime.datetime(2024, 2, 16, 9, 38, 45, tzinfo=<UTC>),\n",
       "                          datetime.datetime(2024, 2, 16, 10, 59, 45, tzinfo=<UTC>),\n",
       "                          datetime.datetime(2024, 2, 16, 11, 26, 45, tzinfo=<UTC>)], dtype=object),\n",
       "              'y': array([ 0.        ,  0.        ,  0.        , ..., 38.7279995 , 38.46299934,\n",
       "                          38.81999969])}],\n",
       "    'layout': {'height': 400, 'margin': {'b': 10, 'l': 10, 'r': 10, 't': 10}, 'template': '...'}\n",
       "})"
      ]
     },
     "execution_count": 18,
     "metadata": {},
     "output_type": "execute_result"
    }
   ],
   "source": [
    "test_df[\"yhat\"] = yhat\n",
    "\n",
    "sys_id.plot_features_and_target(test_df, ['yhat', 'pump3_power'])"
   ]
  },
  {
   "cell_type": "code",
   "execution_count": null,
   "metadata": {},
   "outputs": [],
   "source": []
  }
 ],
 "metadata": {
  "kernelspec": {
   "display_name": "mpc_env",
   "language": "python",
   "name": "python3"
  },
  "language_info": {
   "codemirror_mode": {
    "name": "ipython",
    "version": 3
   },
   "file_extension": ".py",
   "mimetype": "text/x-python",
   "name": "python",
   "nbconvert_exporter": "python",
   "pygments_lexer": "ipython3",
   "version": "3.11.7"
  }
 },
 "nbformat": 4,
 "nbformat_minor": 2
}
