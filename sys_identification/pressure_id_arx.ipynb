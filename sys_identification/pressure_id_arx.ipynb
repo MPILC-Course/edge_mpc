{
 "cells": [
  {
   "cell_type": "code",
   "execution_count": 4,
   "metadata": {},
   "outputs": [],
   "source": [
    "import pandas as pd\n",
    "from filterpy.kalman import KalmanFilter\n",
    "from filterpy.common import Q_discrete_white_noise\n",
    "import numpy as np\n",
    "import matplotlib.pyplot as plt \n",
    "import plotly.graph_objects as go\n",
    "from plotly_resampler import FigureResampler, FigureWidgetResampler"
   ]
  },
  {
   "cell_type": "code",
   "execution_count": 5,
   "metadata": {},
   "outputs": [],
   "source": [
    "df = pd.read_parquet(\"../data/static_models/pressure_miso.par\")\n",
    "df = df.set_index(\"time\")\n",
    "df = df.rolling(window=40, center=True).median().dropna()\n",
    "df = df.resample(\"5s\").mean().dropna()"
   ]
  },
  {
   "cell_type": "code",
   "execution_count": 6,
   "metadata": {},
   "outputs": [],
   "source": [
    "def smooth_data(df, column_name, ets_instance):\n",
    "    real_time_data = df[column_name]\n",
    "    smoothed_data = []\n",
    "    for data_point in real_time_data:\n",
    "        updated_forecast = ets_instance.update(data_point)\n",
    "        smoothed_data.append(updated_forecast)\n",
    "        final_forecast = ets_instance.forecast()  \n",
    "    df[column_name + \"_ets\"] = smoothed_data"
   ]
  },
  {
   "cell_type": "code",
   "execution_count": 7,
   "metadata": {},
   "outputs": [],
   "source": [
    "train_df = df[\"2024-01-09 17:00:00\":\"2024-01-10 00:30:00\"]\n",
    "test_df = df[\"2024-01-11\":\"2024-02-16 12:00:00\"]"
   ]
  },
  {
   "cell_type": "code",
   "execution_count": 8,
   "metadata": {},
   "outputs": [],
   "source": [
    "from src.system_identification import ARXParametersIdentification\n",
    "from src.preprocessing import Preprocessor\n",
    "import pandas as pd\n",
    "from sysidentpy.basis_function._basis_function import Polynomial"
   ]
  },
  {
   "cell_type": "code",
   "execution_count": 9,
   "metadata": {},
   "outputs": [],
   "source": [
    "FEATURES = \"outflow\"\n",
    "TARGET = 'pressure'\n",
    "\n",
    "sys_id = ARXParametersIdentification(FEATURES, \n",
    "                            TARGET, \n",
    "                            dataframe= train_df, \n",
    "                            model_type= 'siso')"
   ]
  },
  {
   "cell_type": "code",
   "execution_count": 10,
   "metadata": {},
   "outputs": [
    {
     "data": {
      "text/html": [
       "<div>\n",
       "<style scoped>\n",
       "    .dataframe tbody tr th:only-of-type {\n",
       "        vertical-align: middle;\n",
       "    }\n",
       "\n",
       "    .dataframe tbody tr th {\n",
       "        vertical-align: top;\n",
       "    }\n",
       "\n",
       "    .dataframe thead th {\n",
       "        text-align: right;\n",
       "    }\n",
       "</style>\n",
       "<table border=\"1\" class=\"dataframe\">\n",
       "  <thead>\n",
       "    <tr style=\"text-align: right;\">\n",
       "      <th></th>\n",
       "      <th>Regressors</th>\n",
       "      <th>Parameters</th>\n",
       "      <th>ERR</th>\n",
       "    </tr>\n",
       "  </thead>\n",
       "  <tbody>\n",
       "    <tr>\n",
       "      <th>0</th>\n",
       "      <td>y(k-1)</td>\n",
       "      <td>5.3294E-01</td>\n",
       "      <td>9.9945E-01</td>\n",
       "    </tr>\n",
       "    <tr>\n",
       "      <th>1</th>\n",
       "      <td>x1(k-1)</td>\n",
       "      <td>5.5858E-05</td>\n",
       "      <td>1.0105E-06</td>\n",
       "    </tr>\n",
       "    <tr>\n",
       "      <th>2</th>\n",
       "      <td>1</td>\n",
       "      <td>2.5055E-01</td>\n",
       "      <td>1.7356E-07</td>\n",
       "    </tr>\n",
       "  </tbody>\n",
       "</table>\n",
       "</div>"
      ],
      "text/plain": [
       "  Regressors  Parameters         ERR\n",
       "0     y(k-1)  5.3294E-01  9.9945E-01\n",
       "1    x1(k-1)  5.5858E-05  1.0105E-06\n",
       "2          1  2.5055E-01  1.7356E-07"
      ]
     },
     "execution_count": 10,
     "metadata": {},
     "output_type": "execute_result"
    }
   ],
   "source": [
    "parameters = {\n",
    "    'estimator': 'ridge_regression',\n",
    "    'ridge_param': 1,\n",
    "    'order_selection': False,\n",
    "    'n_terms': 3,\n",
    "    'extended_least_squares': False,\n",
    "    'ylag': 1,  \n",
    "    'xlag': 1, \n",
    "    'basis_function': Polynomial(degree=1)\n",
    "}\n",
    "    \n",
    "fitted_model, model_parameters = sys_id.identify_arx_parameters(x_train=train_df[FEATURES], \n",
    "                                                                y_train= train_df[TARGET],\n",
    "                                                                **parameters)\n",
    "    \n",
    "model_parameters"
   ]
  },
  {
   "cell_type": "code",
   "execution_count": 11,
   "metadata": {},
   "outputs": [
    {
     "name": "stdout",
     "output_type": "stream",
     "text": [
      "RRSE: 0.5127698131275931\n",
      "MSE: 0.0004246137515028898\n"
     ]
    }
   ],
   "source": [
    "yhat  = sys_id.predict(x_test= test_df[FEATURES], y_test= test_df[TARGET], n_steps_ahead= 200)\n",
    "\n",
    "#val_plots = sys_id.residuals_analysis(yhat, df[TARGET].values)\n",
    "#print(model_parameters)"
   ]
  },
  {
   "cell_type": "code",
   "execution_count": 12,
   "metadata": {},
   "outputs": [
    {
     "data": {
      "application/vnd.jupyter.widget-view+json": {
       "model_id": "d764bd92717d46e3b69e19091a0a44a8",
       "version_major": 2,
       "version_minor": 0
      },
      "text/plain": [
       "FigureWidgetResampler({\n",
       "    'data': [{'name': '<b style=\"color:sandybrown\">[R]</b> pressure <i style=\"color:#fc9944\">~53m</i>',\n",
       "              'showlegend': True,\n",
       "              'type': 'scattergl',\n",
       "              'uid': '76377f7a-ba2a-4e4e-abd4-22db5505ba18',\n",
       "              'x': array([datetime.datetime(2024, 1, 11, 0, 0, tzinfo=<UTC>),\n",
       "                          datetime.datetime(2024, 1, 11, 0, 26, 25, tzinfo=<UTC>),\n",
       "                          datetime.datetime(2024, 1, 11, 0, 52, 50, tzinfo=<UTC>), ...,\n",
       "                          datetime.datetime(2024, 2, 16, 9, 41, 55, tzinfo=<UTC>),\n",
       "                          datetime.datetime(2024, 2, 16, 11, 0, 25, tzinfo=<UTC>),\n",
       "                          datetime.datetime(2024, 2, 16, 11, 26, 45, tzinfo=<UTC>)], dtype=object),\n",
       "              'y': array([0.60380001, 0.57539998, 0.59600002, ..., 0.62210649, 0.64756942,\n",
       "                          0.6423611 ])},\n",
       "             {'name': '<b style=\"color:sandybrown\">[R]</b> yhat <i style=\"color:#fc9944\">~53m</i>',\n",
       "              'showlegend': True,\n",
       "              'type': 'scattergl',\n",
       "              'uid': '1ea5623e-89b9-4f96-bda6-77f8301e9649',\n",
       "              'x': array([datetime.datetime(2024, 1, 11, 0, 0, tzinfo=<UTC>),\n",
       "                          datetime.datetime(2024, 1, 11, 0, 41, 35, tzinfo=<UTC>),\n",
       "                          datetime.datetime(2024, 1, 11, 1, 26, 20, tzinfo=<UTC>), ...,\n",
       "                          datetime.datetime(2024, 2, 16, 9, 51, 5, tzinfo=<UTC>),\n",
       "                          datetime.datetime(2024, 2, 16, 11, 14, 25, tzinfo=<UTC>),\n",
       "                          datetime.datetime(2024, 2, 16, 11, 26, 45, tzinfo=<UTC>)], dtype=object),\n",
       "              'y': array([0.60380001, 0.59732488, 0.53756593, ..., 0.6335578 , 0.6350438 ,\n",
       "                          0.62427415])}],\n",
       "    'layout': {'height': 400, 'margin': {'b': 10, 'l': 10, 'r': 10, 't': 10}, 'template': '...'}\n",
       "})"
      ]
     },
     "execution_count": 12,
     "metadata": {},
     "output_type": "execute_result"
    }
   ],
   "source": [
    "test_df[\"yhat\"] = yhat\n",
    "\n",
    "sys_id.plot_features_and_target(test_df, ['pressure', 'yhat'])"
   ]
  }
 ],
 "metadata": {
  "kernelspec": {
   "display_name": "mpc_env",
   "language": "python",
   "name": "python3"
  },
  "language_info": {
   "codemirror_mode": {
    "name": "ipython",
    "version": 3
   },
   "file_extension": ".py",
   "mimetype": "text/x-python",
   "name": "python",
   "nbconvert_exporter": "python",
   "pygments_lexer": "ipython3",
   "version": "3.11.7"
  }
 },
 "nbformat": 4,
 "nbformat_minor": 2
}
