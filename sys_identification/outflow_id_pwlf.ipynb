{
 "cells": [
  {
   "cell_type": "code",
   "execution_count": 1,
   "metadata": {},
   "outputs": [],
   "source": [
    "import pandas as pd\n",
    "import pwlf\n",
    "import numpy as np \n",
    "import matplotlib.pyplot as plt"
   ]
  },
  {
   "cell_type": "code",
   "execution_count": 2,
   "metadata": {},
   "outputs": [],
   "source": [
    "def outflow_curve_filter(outflow_df, pump_number, feature, bin_size, delay, pump_selection = False):\n",
    "    # Prepare column names based on the selected pump number\n",
    "    if pump_selection == True:\n",
    "        if pump_number == 1:\n",
    "            outflow_df[(outflow_df['pump1_speed'] > 0) & (outflow_df['pump3_speed'] == 0) & (outflow_df['pump4_speed'] == 0)]\n",
    "        elif pump_number == 3:\n",
    "            outflow_df[(outflow_df['pump1_speed'] == 0) & (outflow_df['pump3_speed'] >= 0) & (outflow_df['pump4_speed'] == 0)]\n",
    "        elif pump_number == 4:\n",
    "            outflow_df[(outflow_df['pump1_speed'] == 0) & (outflow_df['pump3_speed'] == 0) & (outflow_df['pump3_speed'] > 0)]\n",
    "            \n",
    "        pump_speed_col = f'pump{pump_number}_speed'\n",
    "    \n",
    "    outflow_df = outflow_df[outflow_df[\"time\"] <= '2024-01-01'].reset_index()\n",
    "    \n",
    "    outflow_df.loc[outflow_df[pump_speed_col] <= 0, 'outflow'] = 0\n",
    "    outflow_df.loc[outflow_df[pump_speed_col] < 0, pump_speed_col] = 0\n",
    "    \n",
    "    outflow_df = outflow_df[(outflow_df[\"outflow\"] >= 0) & (outflow_df[\"outflow\"] < 1000)]\n",
    "    outflow_df[\"outflow\"] = outflow_df[\"outflow\"].shift(delay)\n",
    "    \n",
    "    max_speed = outflow_df[pump_speed_col].max()\n",
    "    bins = range(0, int(max_speed) + bin_size, bin_size)\n",
    "    \n",
    "    # Bin the pump speeds\n",
    "    outflow_df['speed_bin'] = pd.cut(outflow_df[pump_speed_col], bins, right=False)\n",
    "    \n",
    "    # Group by the new 'speed_bin' column and calculate mean values\n",
    "    outflow_df = outflow_df.groupby('speed_bin')[[feature, pump_speed_col]].median().reset_index()\n",
    "    \n",
    "    # Calculate the midpoint of each speed bin\n",
    "    outflow_df['speed_mid'] = outflow_df['speed_bin'].apply(lambda x: (x.left + x.right) / 2)\n",
    "    \n",
    "    return outflow_df.dropna()"
   ]
  },
  {
   "cell_type": "code",
   "execution_count": 3,
   "metadata": {},
   "outputs": [],
   "source": [
    "outflow_df  = pd.read_parquet(\"../data/static_models/outflow_miso.par\")\n",
    "\n",
    "pump1_power_df = pd.read_parquet(\"../data/static_models/pump1_power_siso.par\")\n",
    "#pump4_power_df = pd.read_parquet(\"./data/static_models/pump4_power_siso.par\")\n",
    "#pump3_power_df = pd.read_parquet(\"./data/static_models/pump3_power_siso.par\")"
   ]
  },
  {
   "cell_type": "code",
   "execution_count": 4,
   "metadata": {},
   "outputs": [
    {
     "name": "stderr",
     "output_type": "stream",
     "text": [
      "/tmp/ipykernel_9822/891567818.py:28: FutureWarning: The default of observed=False is deprecated and will be changed to True in a future version of pandas. Pass observed=False to retain current behavior or observed=True to adopt the future default and silence this warning.\n",
      "  outflow_df = outflow_df.groupby('speed_bin')[[feature, pump_speed_col]].median().reset_index()\n"
     ]
    }
   ],
   "source": [
    "static_qout_p1 = outflow_curve_filter(outflow_df = outflow_df,\n",
    "                                           pump_number = 3,\n",
    "                                           feature = \"outflow\",\n",
    "                                           bin_size = 5, \n",
    "                                           delay=2,\n",
    "                                           pump_selection=True)\n"
   ]
  },
  {
   "cell_type": "code",
   "execution_count": 5,
   "metadata": {},
   "outputs": [],
   "source": [
    "def fit_piecewise_outflow(outflow_static_curve_df: pd.DataFrame, breakpoints: list, pump_number: int):\n",
    "    \n",
    "    pwlf_model = None\n",
    "    pump_speed_col = f'pump{pump_number}_speed'\n",
    "    pwlf_model = pwlf.PiecewiseLinFit(outflow_static_curve_df[pump_speed_col], outflow_static_curve_df[\"outflow\"])\n",
    "    pwlf_model.fit_with_breaks(breakpoints)\n",
    "    yhat = pwlf_model.predict(outflow_static_curve_df[pump_speed_col])\n",
    "    print(pwlf_model.beta)\n",
    "    \n",
    "    return outflow_static_curve_df[pump_speed_col],  outflow_static_curve_df[\"outflow\"],  yhat "
   ]
  },
  {
   "cell_type": "code",
   "execution_count": 6,
   "metadata": {},
   "outputs": [
    {
     "name": "stdout",
     "output_type": "stream",
     "text": [
      "[3.22161731 0.08378681 0.83715562]\n"
     ]
    }
   ],
   "source": [
    "x, y, yhat = fit_piecewise_outflow(outflow_static_curve_df= static_qout_p1, \n",
    "                      breakpoints=[0, 600, np.max(static_qout_p1[\"pump3_speed\"])], \n",
    "                      pump_number=3)"
   ]
  }
 ],
 "metadata": {
  "kernelspec": {
   "display_name": "mpc_env",
   "language": "python",
   "name": "python3"
  },
  "language_info": {
   "codemirror_mode": {
    "name": "ipython",
    "version": 3
   },
   "file_extension": ".py",
   "mimetype": "text/x-python",
   "name": "python",
   "nbconvert_exporter": "python",
   "pygments_lexer": "ipython3",
   "version": "3.11.7"
  }
 },
 "nbformat": 4,
 "nbformat_minor": 2
}
