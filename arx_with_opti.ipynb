{
 "cells": [
  {
   "cell_type": "code",
   "execution_count": 1,
   "metadata": {},
   "outputs": [],
   "source": [
    "import casadi as ca\n",
    "\n",
    "# Create an Opti instance\n",
    "opti = ca.Opti()\n",
    "\n",
    "#=========== Parameters of the ARX model \n",
    "a = 0.8\n",
    "b  = 0.5\n",
    "c = 0.1\n",
    "\n",
    "#=========== Desired value of y \n",
    "yd = opti.parameter()\n",
    "measured_outflow = opti.parameter()\n",
    "measured_speed =  opti.parameter()\n",
    "\n",
    "#=========== Define the Horizon\n",
    "N = 10  \n",
    "\n",
    "#=========== Declare Symbolic Variables (SISO but can be extended to MIMO or MISO)\n",
    "outflow = opti.variable(N)\n",
    "u = opti.variable(N)\n",
    "\n",
    "#=========== Objective function\n",
    "# Minimize the deviation of y from yd and control effort\n",
    "objective = 0\n",
    "for t in range(1, N):\n",
    "    objective += 5*(outflow[t] - yd)**2 + 0.1*u[t]**2  \n",
    "\n",
    "opti.minimize(objective)\n",
    "\n",
    "# ARX model constraints\n",
    "for t in range(1, N):\n",
    "    opti.subject_to(outflow[t] == a * outflow[t-1] + b * u[t] + c)\n",
    "\n",
    "# Additional constraints (e.g., on control input)\n",
    "for t in range(N):\n",
    "    opti.subject_to(u[t] >= 0)  # Lower bound on control input\n",
    "    opti.subject_to(u[t] <= 5)   # Upper bound on control input\n",
    "\n",
    "# Initial conditions\n",
    "opti.subject_to(outflow[0] == measured_outflow)  # Initial value of y, read from sensor\n",
    "#opti.subject_to(u[0] == measured_speed)  # Initial value of u, read from sensor\n",
    "\n",
    "# Solver options\n",
    "opts = {\n",
    "    \"qpsol\": \"qrqp\",\n",
    "    #\"convexify_strategy\": \"regularize\",\n",
    "    \"print_time\": 0,\n",
    "    \"print_iteration\": 0,\n",
    "    \"print_header\": 0,\n",
    "    \"verbose\": False,\n",
    "    \"error_on_fail\": False\n",
    "}\n",
    "\n",
    "opti.solver(\"sqpmethod\", opts)\n"
   ]
  },
  {
   "cell_type": "code",
   "execution_count": 2,
   "metadata": {},
   "outputs": [
    {
     "name": "stdout",
     "output_type": "stream",
     "text": [
      "-------------------------------------------\n",
      "This is casadi::QRQP\n",
      "Number of variables:                              20\n",
      "Number of constraints:                            30\n",
      "Number of nonzeros in H:                          18\n",
      "Number of nonzeros in A:                          48\n",
      "Number of nonzeros in KKT:                       146\n",
      "Number of nonzeros in QR(V):                      99\n",
      "Number of nonzeros in QR(R):                     162\n"
     ]
    }
   ],
   "source": [
    "name = 'func'\n",
    "func = opti.to_function(name, [yd, measured_outflow, measured_speed], [u, outflow], ['y_ref','outflow_lag', 'speed_lag'],['opt_u','outflow_preds'])\n",
    "#name the inputs and outputs of the function\n"
   ]
  },
  {
   "cell_type": "code",
   "execution_count": 3,
   "metadata": {},
   "outputs": [
    {
     "name": "stdout",
     "output_type": "stream",
     "text": [
      " Iter  Sing        fk      |pr|   con      |du|   var     min_R   con  last_tau  Note\n",
      "    0     1         0         2    49        10     1   3.3e-16    30         0  \n",
      "    1     0         0         2    49        10     1      0.41    11         1  Enforced lbz for regularity, i=29\n",
      "    2     0       -45       1.3    31   3.4e-15     5      0.15    31         1  Added lbz to reduce |pr|, i=31\n",
      "    3     0       -42      0.84    33   1.8e-15     1     0.085    31         1  Added lbz to reduce |pr|, i=33\n",
      "    4     0       -41      0.49    35   1.1e-14     1     0.064    31         1  Added lbz to reduce |pr|, i=35\n",
      "    5     0       -41       0.2    37   4.9e-15     2     0.053    31         1  Added lbz to reduce |pr|, i=37\n",
      "    6     0       -41   5.3e-16    21   3.6e-15     1     0.053    31         1  Converged\n",
      "MESSAGE(sqpmethod): Convergence achieved after 1 iterations\n"
     ]
    }
   ],
   "source": [
    "solution = func(y_ref = 1, outflow_lag= 2, speed_lag=3)"
   ]
  },
  {
   "cell_type": "code",
   "execution_count": 4,
   "metadata": {},
   "outputs": [],
   "source": [
    "import numpy as np \n",
    "opt_rpm = np.array(solution[\"opt_u\"]).flatten()\n",
    "opt_outflow_prediction = np.array(solution[\"outflow_preds\"]).flatten()"
   ]
  },
  {
   "cell_type": "code",
   "execution_count": 5,
   "metadata": {},
   "outputs": [
    {
     "name": "stdout",
     "output_type": "stream",
     "text": [
      "Code generation successful\n"
     ]
    }
   ],
   "source": [
    "import os \n",
    "import os\n",
    "\n",
    "os.chdir('c_code_generated')\n",
    "opts = dict(main=True, \\\n",
    "            mex=False)\n",
    "            # Move into the generated code directory\n",
    "func.generate('edge_mpc.c',opts)\n",
    "return_value = os.system('gcc -fPIC -shared edge_mpc.c -o edge_mpc.so -lm')\n",
    "if return_value == 0:\n",
    "    print(\"Code generation successful\")\n",
    "else:\n",
    "    print(\"Code generation failed\")\n"
   ]
  },
  {
   "cell_type": "code",
   "execution_count": 6,
   "metadata": {},
   "outputs": [],
   "source": [
    "f = ca.external('func', 'edge_mpc.so')"
   ]
  },
  {
   "cell_type": "code",
   "execution_count": 12,
   "metadata": {},
   "outputs": [
    {
     "name": "stdout",
     "output_type": "stream",
     "text": [
      "\n",
      "\n",
      "\n",
      "\n",
      "\n",
      "\n",
      "\n",
      "\n"
     ]
    }
   ],
   "source": [
    "solution_c_gen = f(y_ref = 1, outflow_lag= 2, speed_lag=3)"
   ]
  },
  {
   "cell_type": "code",
   "execution_count": 13,
   "metadata": {},
   "outputs": [],
   "source": [
    "import numpy as np \n",
    "opt_rpm = np.array(solution_c_gen[\"opt_u\"]).flatten()\n",
    "opt_outflow_prediction = np.array(solution_c_gen[\"outflow_preds\"]).flatten()"
   ]
  },
  {
   "cell_type": "code",
   "execution_count": 14,
   "metadata": {},
   "outputs": [
    {
     "name": "stdout",
     "output_type": "stream",
     "text": [
      "[0.         0.         0.         0.         0.         0.02693768\n",
      " 0.18957328 0.1987701  0.19868824 0.1880446 ]\n",
      "[2.         1.7        1.46       1.268      1.1144     1.00498884\n",
      " 0.99877771 0.99840722 0.9980699  0.99247822]\n"
     ]
    }
   ],
   "source": [
    "print(opt_rpm)\n",
    "print(opt_outflow_prediction)\n"
   ]
  },
  {
   "cell_type": "code",
   "execution_count": null,
   "metadata": {},
   "outputs": [],
   "source": []
  }
 ],
 "metadata": {
  "kernelspec": {
   "display_name": "pytorch_env",
   "language": "python",
   "name": "python3"
  },
  "language_info": {
   "codemirror_mode": {
    "name": "ipython",
    "version": 3
   },
   "file_extension": ".py",
   "mimetype": "text/x-python",
   "name": "python",
   "nbconvert_exporter": "python",
   "pygments_lexer": "ipython3",
   "version": "3.11.5"
  }
 },
 "nbformat": 4,
 "nbformat_minor": 2
}
