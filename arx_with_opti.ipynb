{
 "cells": [
  {
   "cell_type": "code",
   "execution_count": 1,
   "metadata": {},
   "outputs": [
    {
     "name": "stdout",
     "output_type": "stream",
     "text": [
      "\n",
      "******************************************************************************\n",
      "This program contains Ipopt, a library for large-scale nonlinear optimization.\n",
      " Ipopt is released as open source code under the Eclipse Public License (EPL).\n",
      "         For more information visit https://github.com/coin-or/Ipopt\n",
      "******************************************************************************\n",
      "\n",
      "This is Ipopt version 3.14.11, running with linear solver MUMPS 5.4.1.\n",
      "\n",
      "Number of nonzeros in equality constraint Jacobian...:       28\n",
      "Number of nonzeros in inequality constraint Jacobian.:       20\n",
      "Number of nonzeros in Lagrangian Hessian.............:       18\n",
      "\n",
      "Total number of variables............................:       20\n",
      "                     variables with only lower bounds:        0\n",
      "                variables with lower and upper bounds:        0\n",
      "                     variables with only upper bounds:        0\n",
      "Total number of equality constraints.................:       10\n",
      "Total number of inequality constraints...............:       20\n",
      "        inequality constraints with only lower bounds:       10\n",
      "   inequality constraints with lower and upper bounds:        0\n",
      "        inequality constraints with only upper bounds:       10\n",
      "\n",
      "iter    objective    inf_pr   inf_du lg(mu)  ||d||  lg(rg) alpha_du alpha_pr  ls\n",
      "   0  4.5000000e+03 1.00e-01 5.48e+01  -1.0 0.00e+00    -  0.00e+00 0.00e+00   0\n",
      "   1  2.5963934e+03 4.44e-16 1.70e+02  -1.0 2.96e+00    -  5.79e-03 1.00e+00f  1\n",
      "   2  1.6799034e+03 8.88e-16 1.35e+02  -1.0 1.54e+01    -  2.07e-01 2.05e-01f  1\n",
      "   3  1.5527711e+03 8.88e-16 1.29e+02  -1.0 1.06e+01    -  2.29e-01 4.83e-02f  1\n",
      "   4  1.0887708e+03 8.88e-16 1.01e+02  -1.0 9.29e+00    -  5.58e-01 2.18e-01f  1\n",
      "   5  8.5680676e+02 8.88e-16 7.99e+01  -1.0 7.26e+00    -  1.00e+00 2.06e-01f  1\n",
      "   6  6.9384056e+02 8.88e-16 5.88e+01  -1.0 4.63e+00    -  9.99e-01 2.64e-01f  1\n",
      "   7  6.1023113e+02 1.78e-15 4.22e+01  -1.0 2.73e+00    -  1.00e+00 2.83e-01f  1\n",
      "   8  5.6058375e+02 1.78e-15 2.53e+01  -1.0 2.91e+00    -  1.00e+00 4.01e-01f  1\n",
      "   9  5.3988766e+02 1.78e-15 7.56e+00  -1.0 1.91e+00    -  1.00e+00 7.01e-01f  1\n",
      "iter    objective    inf_pr   inf_du lg(mu)  ||d||  lg(rg) alpha_du alpha_pr  ls\n",
      "  10  5.3860985e+02 1.78e-15 1.00e-06  -1.0 7.18e-01    -  1.00e+00 1.00e+00f  1\n",
      "  11  5.3789230e+02 1.78e-15 2.00e-07  -1.7 1.62e-01    -  1.00e+00 1.00e+00f  1\n",
      "  12  5.3770263e+02 1.78e-15 2.83e-08  -2.5 5.36e-02    -  1.00e+00 1.00e+00f  1\n",
      "  13  5.3767740e+02 1.78e-15 1.50e-09  -3.8 6.47e-03    -  1.00e+00 1.00e+00f  1\n",
      "  14  5.3767635e+02 1.78e-15 1.85e-11  -5.7 1.69e-04    -  1.00e+00 1.00e+00f  1\n",
      "  15  5.3767634e+02 1.78e-15 2.84e-14  -8.6 1.13e-06    -  1.00e+00 1.00e+00f  1\n",
      "\n",
      "Number of Iterations....: 15\n",
      "\n",
      "                                   (scaled)                 (unscaled)\n",
      "Objective...............:   5.3767633733981791e+02    5.3767633733981791e+02\n",
      "Dual infeasibility......:   2.8421709430404007e-14    2.8421709430404007e-14\n",
      "Constraint violation....:   1.7763568394002505e-15    1.7763568394002505e-15\n",
      "Variable bound violation:   0.0000000000000000e+00    0.0000000000000000e+00\n",
      "Complementarity.........:   2.5129039965337666e-09    2.5129039965337666e-09\n",
      "Overall NLP error.......:   2.5129039965337666e-09    2.5129039965337666e-09\n",
      "\n",
      "\n",
      "Number of objective function evaluations             = 16\n",
      "Number of objective gradient evaluations             = 16\n",
      "Number of equality constraint evaluations            = 16\n",
      "Number of inequality constraint evaluations          = 16\n",
      "Number of equality constraint Jacobian evaluations   = 16\n",
      "Number of inequality constraint Jacobian evaluations = 16\n",
      "Number of Lagrangian Hessian evaluations             = 15\n",
      "Total seconds in IPOPT                               = 0.027\n",
      "\n",
      "EXIT: Optimal Solution Found.\n",
      "      solver  :   t_proc      (avg)   t_wall      (avg)    n_eval\n",
      "       nlp_f  | 944.00us ( 59.00us) 191.80us ( 11.99us)        16\n",
      "       nlp_g  |   1.59ms ( 99.25us) 309.10us ( 19.32us)        16\n",
      "  nlp_grad_f  |   1.22ms ( 71.71us) 245.30us ( 14.43us)        17\n",
      "  nlp_hess_l  |   1.46ms ( 97.27us) 295.10us ( 19.67us)        15\n",
      "   nlp_jac_g  |   2.21ms (129.82us) 447.80us ( 26.34us)        17\n",
      "       total  | 136.92ms (136.92ms)  27.37ms ( 27.37ms)         1\n"
     ]
    },
    {
     "data": {
      "image/png": "[encoded data removed]",
      "text/plain": [
       "<Figure size 640x480 with 1 Axes>"
      ]
     },
     "metadata": {},
     "output_type": "display_data"
    }
   ],
   "source": [
    "import casadi as ca\n",
    "import matplotlib.pyplot as plt\n",
    "\n",
    "# Create an Opti instance\n",
    "opti = ca.Opti()\n",
    "\n",
    "#=========== Parameters of the ARX model \n",
    "a = 0.8\n",
    "b  = 0.5\n",
    "c = 0.1\n",
    "\n",
    "#=========== Desired value of y \n",
    "yd = opti.parameter()\n",
    "measured_outflow = opti.parameter()\n",
    "measured_speed =  opti.parameter()\n",
    "\n",
    "yd = 10\n",
    "measured_outflow = 0\n",
    "measured_speed = 100\n",
    "\n",
    "#=========== Define the Horizon\n",
    "N = 10  \n",
    "\n",
    "#=========== Declare Symbolic Variables (SISO but can be extended to MIMO or MISO)\n",
    "outflow = opti.variable(N)\n",
    "u = opti.variable(N)\n",
    "\n",
    "#=========== Objective function\n",
    "# Minimize the deviation of y from yd and control effort\n",
    "objective = 0\n",
    "for t in range(1, N):\n",
    "    objective += 5*(outflow[t] - yd)**2 + 0.1*u[t]**2  \n",
    "\n",
    "opti.minimize(objective)\n",
    "\n",
    "# ARX model constraints\n",
    "for t in range(1, N):\n",
    "    opti.subject_to(outflow[t] == a * outflow[t-1] + b * u[t] + c)\n",
    "\n",
    "# Additional constraints (e.g., on control input)\n",
    "for t in range(N):\n",
    "    opti.subject_to(u[t] >= 0)  # Lower bound on control input\n",
    "    opti.subject_to(u[t] <= 5)   # Upper bound on control input\n",
    "\n",
    "# Initial conditions\n",
    "opti.subject_to(outflow[0] == measured_outflow)  # Initial value of y, read from sensor\n",
    "#opti.subject_to(u[0] == measured_speed)  # Initial value of u, read from sensor\n",
    "\n",
    "# Solver options\n",
    "opts = {\n",
    "    \"qpsol\": \"ipopt\",\n",
    "    #\"convexify_strategy\": \"regularize\",\n",
    "    \"print_time\": 0,\n",
    "    \"print_iteration\": 0,\n",
    "    \"print_header\": 0,\n",
    "    \"verbose\": False,\n",
    "    \"error_on_fail\": False\n",
    "}\n",
    "\n",
    "#opti.solver(\"sqpmethod\", opts)\n",
    "opti.solver('ipopt')\n",
    "\n",
    "sol = opti.solve();   # actual solve\n",
    "\n",
    "\n",
    "plt.plot(sol.value(outflow))\n",
    "plt.plot(sol.value(u))\n",
    "plt.show()\n"
   ]
  },
  {
   "cell_type": "code",
   "execution_count": 2,
   "metadata": {},
   "outputs": [
    {
     "name": "stdout",
     "output_type": "stream",
     "text": [
      "-------------------------------------------\n",
      "This is casadi::QRQP\n",
      "Number of variables:                              20\n",
      "Number of constraints:                            30\n",
      "Number of nonzeros in H:                          18\n",
      "Number of nonzeros in A:                          48\n",
      "Number of nonzeros in KKT:                       146\n",
      "Number of nonzeros in QR(V):                      99\n",
      "Number of nonzeros in QR(R):                     162\n"
     ]
    }
   ],
   "source": [
    "name = 'func'\n",
    "func = opti.to_function(name, [yd, measured_outflow, measured_speed], [u, outflow], ['y_ref','outflow_lag', 'speed_lag'],['opt_u','outflow_preds'])\n",
    "#name the inputs and outputs of the function\n"
   ]
  },
  {
   "cell_type": "code",
   "execution_count": 3,
   "metadata": {},
   "outputs": [
    {
     "name": "stdout",
     "output_type": "stream",
     "text": [
      " Iter  Sing        fk      |pr|   con      |du|   var     min_R   con  last_tau  Note\n",
      "    0     1         0         2    49        10     1   3.3e-16    30         0  \n",
      "    1     0         0         2    49        10     1      0.41    11         1  Enforced lbz for regularity, i=29\n",
      "    2     0       -45       1.3    31   3.4e-15     5      0.15    31         1  Added lbz to reduce |pr|, i=31\n",
      "    3     0       -42      0.84    33   1.8e-15     1     0.085    31         1  Added lbz to reduce |pr|, i=33\n",
      "    4     0       -41      0.49    35   1.1e-14     1     0.064    31         1  Added lbz to reduce |pr|, i=35\n",
      "    5     0       -41       0.2    37   4.9e-15     2     0.053    31         1  Added lbz to reduce |pr|, i=37\n",
      "    6     0       -41   5.3e-16    21   3.6e-15     1     0.053    31         1  Converged\n",
      "MESSAGE(sqpmethod): Convergence achieved after 1 iterations\n"
     ]
    }
   ],
   "source": [
    "solution = func(y_ref = 1, outflow_lag= 2, speed_lag=3)"
   ]
  },
  {
   "cell_type": "code",
   "execution_count": 4,
   "metadata": {},
   "outputs": [],
   "source": [
    "import numpy as np \n",
    "opt_rpm = np.array(solution[\"opt_u\"]).flatten()\n",
    "opt_outflow_prediction = np.array(solution[\"outflow_preds\"]).flatten()"
   ]
  },
  {
   "cell_type": "code",
   "execution_count": 5,
   "metadata": {},
   "outputs": [
    {
     "name": "stdout",
     "output_type": "stream",
     "text": [
      "Code generation successful\n"
     ]
    }
   ],
   "source": [
    "import os \n",
    "import os\n",
    "\n",
    "os.chdir('c_code_generated')\n",
    "opts = dict(main=True, \\\n",
    "            mex=False)\n",
    "            # Move into the generated code directory\n",
    "func.generate('edge_mpc.c',opts)\n",
    "return_value = os.system('gcc -fPIC -shared edge_mpc.c -o edge_mpc.so -lm')\n",
    "if return_value == 0:\n",
    "    print(\"Code generation successful\")\n",
    "else:\n",
    "    print(\"Code generation failed\")\n"
   ]
  },
  {
   "cell_type": "code",
   "execution_count": 6,
   "metadata": {},
   "outputs": [],
   "source": [
    "f = ca.external('func', 'edge_mpc.so')"
   ]
  },
  {
   "cell_type": "code",
   "execution_count": 12,
   "metadata": {},
   "outputs": [
    {
     "name": "stdout",
     "output_type": "stream",
     "text": [
      "\n",
      "\n",
      "\n",
      "\n",
      "\n",
      "\n",
      "\n",
      "\n"
     ]
    }
   ],
   "source": [
    "solution_c_gen = f(y_ref = 1, outflow_lag= 2, speed_lag=3)"
   ]
  },
  {
   "cell_type": "code",
   "execution_count": 13,
   "metadata": {},
   "outputs": [],
   "source": [
    "import numpy as np \n",
    "opt_rpm = np.array(solution_c_gen[\"opt_u\"]).flatten()\n",
    "opt_outflow_prediction = np.array(solution_c_gen[\"outflow_preds\"]).flatten()"
   ]
  },
  {
   "cell_type": "code",
   "execution_count": 14,
   "metadata": {},
   "outputs": [
    {
     "name": "stdout",
     "output_type": "stream",
     "text": [
      "[0.         0.         0.         0.         0.         0.02693768\n",
      " 0.18957328 0.1987701  0.19868824 0.1880446 ]\n",
      "[2.         1.7        1.46       1.268      1.1144     1.00498884\n",
      " 0.99877771 0.99840722 0.9980699  0.99247822]\n"
     ]
    }
   ],
   "source": [
    "print(opt_rpm)\n",
    "print(opt_outflow_prediction)\n"
   ]
  },
  {
   "cell_type": "code",
   "execution_count": null,
   "metadata": {},
   "outputs": [],
   "source": []
  }
 ],
 "metadata": {
  "kernelspec": {
   "display_name": "pytorch_env",
   "language": "python",
   "name": "python3"
  },
  "language_info": {
   "codemirror_mode": {
    "name": "ipython",
    "version": 3
   },
   "file_extension": ".py",
   "mimetype": "text/x-python",
   "name": "python",
   "nbconvert_exporter": "python",
   "pygments_lexer": "ipython3",
   "version": "3.11.7"
  }
 },
 "nbformat": 4,
 "nbformat_minor": 2
}
