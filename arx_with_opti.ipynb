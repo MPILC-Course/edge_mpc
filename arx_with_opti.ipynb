{
 "cells": [
  {
   "cell_type": "code",
   "execution_count": 1,
   "metadata": {},
   "outputs": [],
   "source": [
    "import casadi as ca\n",
    "\n",
    "# Create an Opti instance\n",
    "opti = ca.Opti()\n",
    "\n",
    "#=========== Parameters of the ARX model \n",
    "a = 0.8\n",
    "b  = 0.5\n",
    "c = 0.1\n",
    "\n",
    "#=========== Desired value of y \n",
    "yd = opti.parameter()\n",
    "measured_outflow = opti.parameter()\n",
    "measured_speed =  opti.parameter()\n",
    "\n",
    "#=========== Define the Horizon\n",
    "N = 10  \n",
    "\n",
    "#=========== Declare Symbolic Variables (SISO but can be extended to MIMO or MISO)\n",
    "outflow = opti.variable(N)\n",
    "u = opti.variable(N)\n",
    "\n",
    "#=========== Objective function\n",
    "# Minimize the deviation of y from yd and control effort\n",
    "objective = 0\n",
    "for t in range(1, N):\n",
    "    objective += 5*(outflow[t] - yd)**2 + 0.1*u[t]**2  \n",
    "\n",
    "opti.minimize(objective)\n",
    "\n",
    "# ARX model constraints\n",
    "for t in range(1, N):\n",
    "    opti.subject_to(outflow[t] == a * outflow[t-1] + b * u[t] + c)\n",
    "\n",
    "# Additional constraints (e.g., on control input)\n",
    "for t in range(N):\n",
    "    opti.subject_to(u[t] >= 0)  # Lower bound on control input\n",
    "    opti.subject_to(u[t] <= 5)   # Upper bound on control input\n",
    "\n",
    "# Initial conditions\n",
    "opti.subject_to(outflow[0] == measured_outflow)  # Initial value of y, read from sensor\n",
    "opti.subject_to(u[0] == measured_speed)  # Initial value of u, read from sensor\n",
    "\n",
    "# Solver options\n",
    "opts = {\n",
    "    \"qpsol\": \"qrqp\",\n",
    "    #\"convexify_strategy\": \"regularize\",\n",
    "    \"print_time\": 0,\n",
    "    \"print_iteration\": 0,\n",
    "    \"print_header\": 0,\n",
    "    \"verbose\": False,\n",
    "    \"error_on_fail\": False\n",
    "}\n",
    "\n",
    "opti.solver(\"sqpmethod\", opts)\n"
   ]
  },
  {
   "cell_type": "code",
   "execution_count": 2,
   "metadata": {},
   "outputs": [
    {
     "name": "stdout",
     "output_type": "stream",
     "text": [
      "-------------------------------------------\n",
      "This is casadi::QRQP\n",
      "Number of variables:                              20\n",
      "Number of constraints:                            31\n",
      "Number of nonzeros in H:                          18\n",
      "Number of nonzeros in A:                          49\n",
      "Number of nonzeros in KKT:                       149\n",
      "Number of nonzeros in QR(V):                     103\n",
      "Number of nonzeros in QR(R):                     166\n"
     ]
    }
   ],
   "source": [
    "name = 'func'\n",
    "func = opti.to_function(name, [yd, measured_outflow, measured_speed], [u, outflow, yd])"
   ]
  },
  {
   "cell_type": "code",
   "execution_count": 3,
   "metadata": {},
   "outputs": [
    {
     "name": "stdout",
     "output_type": "stream",
     "text": [
      "Code generation successful\n"
     ]
    }
   ],
   "source": [
    "import os \n",
    "import os\n",
    "\n",
    "os.chdir('c_code_generated')\n",
    "opts = dict(main=True, \\\n",
    "            mex=False)\n",
    "            # Move into the generated code directory\n",
    "func.generate('edge_mpc.c',opts)\n",
    "return_value = os.system('gcc -fPIC -shared edge_mpc.c -o edge_mpc.so -lm')\n",
    "if return_value == 0:\n",
    "    print(\"Code generation successful\")\n",
    "else:\n",
    "    print(\"Code generation failed\")\n"
   ]
  },
  {
   "cell_type": "code",
   "execution_count": 4,
   "metadata": {},
   "outputs": [],
   "source": [
    "f = ca.external('func', 'edge_mpc.so')"
   ]
  },
  {
   "cell_type": "code",
   "execution_count": 5,
   "metadata": {},
   "outputs": [
    {
     "name": "stdout",
     "output_type": "stream",
     "text": [
      "\n",
      "\n",
      "\n",
      "\n",
      "\n",
      "\n",
      "\n",
      "\n"
     ]
    }
   ],
   "source": [
    "u_opt, y_opt, yref = f(10, 2, 1)"
   ]
  }
 ],
 "metadata": {
  "kernelspec": {
   "display_name": "pytorch_env",
   "language": "python",
   "name": "python3"
  },
  "language_info": {
   "codemirror_mode": {
    "name": "ipython",
    "version": 3
   },
   "file_extension": ".py",
   "mimetype": "text/x-python",
   "name": "python",
   "nbconvert_exporter": "python",
   "pygments_lexer": "ipython3",
   "version": "3.11.5"
  }
 },
 "nbformat": 4,
 "nbformat_minor": 2
}
